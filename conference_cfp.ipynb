{
 "cells": [
  {
   "cell_type": "code",
   "execution_count": null,
   "metadata": {},
   "outputs": [],
   "source": [
    "# import sys\n",
    "# sys.path.append(\".\")\n",
    "# %cd \".\"\n",
    "%reload_ext autoreload\n",
    "%autoreload 2"
   ]
  },
  {
   "attachments": {},
   "cell_type": "markdown",
   "metadata": {},
   "source": [
    "## Parsing CORE data & FoR codes"
   ]
  },
  {
   "cell_type": "code",
   "execution_count": null,
   "metadata": {},
   "outputs": [],
   "source": [
    "import pandas as pd\n",
    "import concurrent.futures\n",
    "from conference_data_bot import parse_core_conf_data\n",
    "\n",
    "total_pages = 20\n",
    "\n",
    "# Use a ThreadPoolExecutor to run get_core_conf_data concurrently\n",
    "with concurrent.futures.ThreadPoolExecutor() as executor:\n",
    "    core_conf_data_list = list(\n",
    "        executor.map(parse_core_conf_data, list(range(1, total_pages+1)))\n",
    "    )\n",
    "\n",
    "core_conf_data = (pd.concat(core_conf_data_list)\n",
    "                    .sort_values(by='Title')\n",
    "                    .reset_index(drop=True))"
   ]
  },
  {
   "cell_type": "code",
   "execution_count": null,
   "metadata": {},
   "outputs": [],
   "source": [
    "core_conf_data['Acronym'] = core_conf_data.Acronym.str.upper()\n",
    "core_conf_data['Title'] = core_conf_data.Title.str.upper()"
   ]
  },
  {
   "cell_type": "code",
   "execution_count": null,
   "metadata": {},
   "outputs": [],
   "source": [
    "print(core_conf_data.shape)"
   ]
  },
  {
   "cell_type": "code",
   "execution_count": null,
   "metadata": {},
   "outputs": [],
   "source": [
    "from conference_data_bot import parse_core_for_data\n",
    "\n",
    "for_code_level1_data, for_code_level2_data = parse_core_for_data()"
   ]
  },
  {
   "cell_type": "code",
   "execution_count": null,
   "metadata": {},
   "outputs": [],
   "source": [
    "core_conf_data[\"Field Name\"] = core_conf_data[\"Primary FoR\"].map({**dict(for_code_level1_data.to_records(index=False)),\n",
    "                                                                  **dict(for_code_level2_data.to_records(index=False))})\n"
   ]
  },
  {
   "cell_type": "code",
   "execution_count": null,
   "metadata": {},
   "outputs": [],
   "source": [
    "print(core_conf_data.shape)"
   ]
  },
  {
   "cell_type": "code",
   "execution_count": null,
   "metadata": {},
   "outputs": [],
   "source": [
    "core_acronym_change = {\n",
    "    'HCI': 'BCSHCI',\n",
    "    'FST&TCS': 'FSTTCS',\n",
    "    'IEEE CCNC': 'CCNC',\n",
    "    'IEEE HPCS': 'HPCS',\n",
    "    'IEEE ICIA': 'ICIA',\n",
    "    'IEEE ADPRL': 'ADPRL',\n",
    "    'IEEE ALIFE': 'ALIFE',\n",
    "    'SP': 'S&P',\n",
    "    'IFIP SEC': 'SEC',\n",
    "    'USENIX-SECURITY': 'SECURITY',\n",
    "    \"CT-RSA\": \"RSA\",\n",
    "    'EVOCOP':'ECCO',\n",
    "    \n",
    "}\n",
    "\n",
    "core_conf_data['Acronym'] = core_conf_data.Acronym.replace(core_acronym_change)"
   ]
  },
  {
   "cell_type": "code",
   "execution_count": null,
   "metadata": {},
   "outputs": [],
   "source": [
    "core_conf_data.to_excel(\"core_conf_data.xlsx\", index=False)\n",
    "core_conf_data.to_pickle(\"core_conf_data.pickle\")"
   ]
  },
  {
   "attachments": {},
   "cell_type": "markdown",
   "metadata": {},
   "source": [
    "## Parsing GGS data"
   ]
  },
  {
   "cell_type": "code",
   "execution_count": null,
   "metadata": {},
   "outputs": [],
   "source": [
    "from conference_data_bot import parse_ggs_data\n",
    "\n",
    "ggs_data = parse_ggs_data()\n",
    "\n",
    "print(ggs_data.shape)"
   ]
  },
  {
   "cell_type": "code",
   "execution_count": null,
   "metadata": {},
   "outputs": [],
   "source": [
    "import numpy as np\n",
    "\n",
    "ggs_acronym_change = {\n",
    "    'DIMEA': 'ACE',\n",
    "    'ASP-DAC': 'ASPDAC',\n",
    "    'ACE-AUS': 'ACE',\n",
    "    'BCS-HCI': 'BCSHCI',\n",
    "    'BIG DATA': 'BIGDATA',\n",
    "    'ICCI*CC': 'ICCI',\n",
    "    'CHPSN': 'ICCHP',\n",
    "    'SEQAPP': 'SETA',\n",
    "    'CADE': 'IJCAR',\n",
    "    'COIN': 'COINE',\n",
    "    'I3D': 'I3DG',\n",
    "    'CSEE&T': 'CSEET'\n",
    "}\n",
    "\n",
    "ggs_data.loc[ggs_data.Title=='PRAGUE STRINGOLOGY CONFERENCE', 'Acronym'] = 'PSC'\n",
    "ggs_data['Acronym'] = ggs_data.Acronym.replace(ggs_acronym_change)"
   ]
  },
  {
   "cell_type": "code",
   "execution_count": null,
   "metadata": {},
   "outputs": [],
   "source": [
    "print(ggs_data.shape)\n",
    "ggs_data.to_excel(\"ggs_data.xlsx\", index=False)\n",
    "ggs_data.to_pickle(\"ggs_data.pickle\")"
   ]
  },
  {
   "cell_type": "code",
   "execution_count": null,
   "metadata": {},
   "outputs": [],
   "source": [
    "set(core_conf_data.Acronym.values)-set(ggs_data.Acronym.values)"
   ]
  },
  {
   "cell_type": "code",
   "execution_count": null,
   "metadata": {},
   "outputs": [],
   "source": [
    "pd.set_option('max_colwidth', 1)\n",
    "\n",
    "(core_conf_data[core_conf_data.Acronym.isin(['CADE',\n",
    " 'CSEET',\n",
    " 'CT-RSA',\n",
    " 'ECML PKDD',\n",
    " 'EUROPAR',\n",
    " 'EVOCOP',\n",
    " 'FSE',\n",
    " 'HOTCHIPS (HCS)',\n",
    " 'I3DG',\n",
    " 'ICSME',\n",
    " 'IH&MMSEC',\n",
    " 'ITNAC',\n",
    " 'KES AMSTA',\n",
    " 'MODSIM',\n",
    " 'PETRI NETS',\n",
    " 'SEMANTICS',\n",
    " 'VISSOFT',\n",
    " 'WI'])]\n",
    " [['Title', 'Acronym']]\n",
    "#  .merge(ggs_data[['Title', 'Acronym']],\n",
    "#         how='inner',\n",
    "#         on='Title')\n",
    "# [['Title', 'Acronym']]\n",
    ")#.to_dict(orient='records')\n"
   ]
  },
  {
   "cell_type": "code",
   "execution_count": null,
   "metadata": {},
   "outputs": [],
   "source": [
    "ggs_data.merge(core_conf_data[['Acronym', 'Source', 'Rank', 'DBLP', 'Primary FoR', 'Average Rating', 'Field Name']],\n",
    "              how='left',\n",
    "              left_on='Acronym',\n",
    "              right_on='Acronym')"
   ]
  },
  {
   "attachments": {},
   "cell_type": "markdown",
   "metadata": {},
   "source": [
    "## Parsing WikiCFP data"
   ]
  },
  {
   "cell_type": "code",
   "execution_count": null,
   "metadata": {},
   "outputs": [],
   "source": [
    "import string\n",
    "from itertools import chain\n",
    "from conference_data_bot import parse_wikicfp_programs_by_index\n",
    "\n",
    "# Use a ThreadPoolExecutor to run parse_wikicfp_programs concurrently\n",
    "with concurrent.futures.ThreadPoolExecutor() as executor:\n",
    "    # Use map function to apply parse_wikicfp_programs to all elements of list(string.ascii_uppercase)\n",
    "    wikicfp_program_list = list(\n",
    "        executor.map(parse_wikicfp_programs_by_index, list(string.ascii_uppercase))\n",
    "    )\n",
    "\n",
    "wikicfp_program_data = (\n",
    "    pd.DataFrame({\"program_link\": list(chain(*wikicfp_program_list))})\n",
    "    .program_link.replace({\"s=\": \"\", \"f=\": \"\"}, regex=True)\n",
    "    .str.split(\"&\", n=3, expand=True)\n",
    "    .rename(columns={0: \"program_link\", 1: \"acronym\", 2: \"program_name\"})\n",
    ")"
   ]
  },
  {
   "cell_type": "code",
   "execution_count": null,
   "metadata": {},
   "outputs": [],
   "source": [
    "wikicfp_ggs = wikicfp_program_data.merge(ggs_data,\n",
    "                                         how='inner',\n",
    "                                         left_on=\"acronym\",\n",
    "                                         right_on=\"Acronym\")"
   ]
  },
  {
   "cell_type": "code",
   "execution_count": null,
   "metadata": {},
   "outputs": [],
   "source": [
    "print(wikicfp_ggs.shape)\n",
    "wikicfp_ggs.to_excel(\"wikicfp_ggs.xlsx\", index=False)\n",
    "wikicfp_ggs.to_pickle(\"wikicfp_ggs.pickle\")"
   ]
  },
  {
   "cell_type": "code",
   "execution_count": null,
   "metadata": {},
   "outputs": [],
   "source": [
    "wikicfp_ggs_event_detail = wikicfp_ggs[['program_link', 'Title', 'Acronym']].copy()"
   ]
  },
  {
   "cell_type": "code",
   "execution_count": null,
   "metadata": {},
   "outputs": [],
   "source": [
    "from tqdm import tqdm\n",
    "from conference_data_bot import parse_wikicfp_program_events, parse_wikicfp_event_detail\n",
    "\n",
    "for idx, row in tqdm(wikicfp_ggs_event_detail.iterrows(),\n",
    "                     total=wikicfp_ggs_event_detail.shape[0],\n",
    "                     desc=f'Parsing event detail: '):\n",
    "    try:\n",
    "        program_event_list = parse_wikicfp_program_events(\n",
    "            wikicfp_ggs_event_detail.loc[idx, 'program_link'])\n",
    "\n",
    "        with concurrent.futures.ThreadPoolExecutor() as executor:\n",
    "            wikicfp_event_detail_list = list(\n",
    "                executor.map(parse_wikicfp_event_detail, program_event_list)\n",
    "            )\n",
    "            wikicfp_ggs_event_detail.loc[idx, 'all_event_detail'] = pd.DataFrame(\n",
    "                wikicfp_event_detail_list).to_json(orient='records')\n",
    "    except Exception as e:\n",
    "        print(idx, row.program_link, e)"
   ]
  },
  {
   "cell_type": "code",
   "execution_count": null,
   "metadata": {},
   "outputs": [],
   "source": [
    "wikicfp_ggs_event_detail"
   ]
  },
  {
   "cell_type": "code",
   "execution_count": null,
   "metadata": {},
   "outputs": [],
   "source": [
    "print(wikicfp_ggs_event_detail.shape)\n",
    "wikicfp_ggs_event_detail.to_excel(\"wikicfp_ggs_event_detail.xlsx\", index=False)\n",
    "wikicfp_ggs_event_detail.to_pickle(\"wikicfp_ggs_event_detail.pickle\")"
   ]
  },
  {
   "cell_type": "code",
   "execution_count": null,
   "metadata": {},
   "outputs": [],
   "source": [
    "all_dfs = []\n",
    "\n",
    "for idx, row in wikicfp_ggs_event_detail.iterrows():\n",
    "    df1 = pd.DataFrame([row[['program_link', 'Title', 'Acronym']]])\n",
    "    df2 = pd.read_json(row.all_event_detail)\n",
    "    if len(df2)==0:\n",
    "        df2 = pd.DataFrame({'When':None,\n",
    "                  'Where':None,\n",
    "                  'Abstract Registration Due':None,\n",
    "                  'Submission Deadline':None,\n",
    "                  'Notification Due':None,\n",
    "                  'Final Version Due':None,\n",
    "                  'Link':None}, index=[0])\n",
    "    df1_replicated = pd.concat([df1] * len(df2), ignore_index=True)\n",
    "    all_dfs.append(pd.concat([pd.concat([df1] * len(df2), ignore_index=True),\n",
    "                              df2],\n",
    "                             axis=1))"
   ]
  },
  {
   "cell_type": "code",
   "execution_count": null,
   "metadata": {},
   "outputs": [],
   "source": [
    "all_events_df = pd.concat(all_dfs, axis=0, ignore_index=True)"
   ]
  },
  {
   "cell_type": "code",
   "execution_count": 179,
   "metadata": {},
   "outputs": [],
   "source": [
    "from datetime import datetime\n",
    "\n",
    "all_events_df.merge(wikicfp_ggs[['program_link', 'Title', 'Acronym',\n",
    "                                 'GGS Class', 'GGS Rating', \n",
    "                                 'CORE-Best Class', 'CORE-All Classes']],\n",
    "                    on=['program_link', 'Title', 'Acronym'], how='left').to_excel(f\"dump_{datetime.now().strftime('%d%m%Y-%H%M%S')}.xlsx\", index=False)"
   ]
  },
  {
   "cell_type": "code",
   "execution_count": null,
   "metadata": {},
   "outputs": [],
   "source": [
    "pd.read_json(wikicfp_ggs_event_detail\n",
    "             .query(\"Acronym=='ISDA'\")\n",
    "             .all_event_detail\n",
    "             .values[0])"
   ]
  },
  {
   "cell_type": "code",
   "execution_count": null,
   "metadata": {},
   "outputs": [],
   "source": [
    "wikicfp_ggs_event_detail_final = wikicfp_ggs.merge(wikicfp_ggs_event_detail,\n",
    "                                                   how='left',\n",
    "                                                   left_on=['Title', 'Acronym', 'program_link'],\n",
    "                                                   right_on=['Title', 'Acronym', 'program_link'])"
   ]
  },
  {
   "cell_type": "code",
   "execution_count": null,
   "metadata": {},
   "outputs": [],
   "source": [
    "print(set(core_conf_data.Acronym.str.upper()).difference(set(wikicfp_ggs_event_detail_final.acronym.values)))\n",
    "\n",
    "# print(len(set(wikicfp_ggs_event_detail_final.acronym.values).difference(set(core_conf_data.Acronym.values))))"
   ]
  },
  {
   "cell_type": "code",
   "execution_count": null,
   "metadata": {},
   "outputs": [],
   "source": [
    "core_conf_data"
   ]
  },
  {
   "cell_type": "code",
   "execution_count": null,
   "metadata": {},
   "outputs": [],
   "source": []
  }
 ],
 "metadata": {
  "kernelspec": {
   "display_name": "test",
   "language": "python",
   "name": "python3"
  },
  "language_info": {
   "codemirror_mode": {
    "name": "ipython",
    "version": 3
   },
   "file_extension": ".py",
   "mimetype": "text/x-python",
   "name": "python",
   "nbconvert_exporter": "python",
   "pygments_lexer": "ipython3",
   "version": "3.8.16"
  },
  "orig_nbformat": 4,
  "vscode": {
   "interpreter": {
    "hash": "26e7f479ef418cfc9e672dce9c8b93e64ef1d4cfcaa8667e671e404a8f90e90f"
   }
  }
 },
 "nbformat": 4,
 "nbformat_minor": 2
}
